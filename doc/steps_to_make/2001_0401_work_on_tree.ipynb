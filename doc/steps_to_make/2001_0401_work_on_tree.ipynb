{
 "cells": [
  {
   "cell_type": "markdown",
   "metadata": {},
   "source": [
    "# work on the tree"
   ]
  },
  {
   "cell_type": "markdown",
   "metadata": {},
   "source": [
    "## ast.NodeVisitor"
   ]
  },
  {
   "cell_type": "markdown",
   "metadata": {},
   "source": [
    "ast.NodeVisitor is the primary tool for ‘scanning’ the tree. "
   ]
  },
  {
   "cell_type": "code",
   "execution_count": 2,
   "metadata": {},
   "outputs": [
    {
     "name": "stdout",
     "output_type": "stream",
     "text": [
      "class NodeVisitor(object):\n",
      "    \"\"\"\n",
      "    A node visitor base class that walks the abstract syntax tree and calls a\n",
      "    visitor function for every node found.  This function may return a value\n",
      "    which is forwarded by the `visit` method.\n",
      "\n",
      "    This class is meant to be subclassed, with the subclass adding visitor\n",
      "    methods.\n",
      "\n",
      "    Per default the visitor functions for the nodes are ``'visit_'`` +\n",
      "    class name of the node.  So a `TryFinally` node visit function would\n",
      "    be `visit_TryFinally`.  This behavior can be changed by overriding\n",
      "    the `visit` method.  If no visitor function exists for a node\n",
      "    (return value `None`) the `generic_visit` visitor is used instead.\n",
      "\n",
      "    Don't use the `NodeVisitor` if you want to apply changes to nodes during\n",
      "    traversing.  For this a special visitor exists (`NodeTransformer`) that\n",
      "    allows modifications.\n",
      "    \"\"\"\n",
      "\n",
      "    def visit(self, node):\n",
      "        \"\"\"Visit a node.\"\"\"\n",
      "        method = 'visit_' + node.__class__.__name__\n",
      "        visitor = getattr(self, method, self.generic_visit)\n",
      "        return visitor(node)\n",
      "\n",
      "    def generic_visit(self, node):\n",
      "        \"\"\"Called if no explicit visitor function exists for a node.\"\"\"\n",
      "        for field, value in iter_fields(node):\n",
      "            if isinstance(value, list):\n",
      "                for item in value:\n",
      "                    if isinstance(item, AST):\n",
      "                        self.visit(item)\n",
      "            elif isinstance(value, AST):\n",
      "                self.visit(value)\n",
      "\n"
     ]
    }
   ],
   "source": [
    "import ast\n",
    "import inspect\n",
    "\n",
    "print(inspect.getsource(ast.NodeVisitor))"
   ]
  },
  {
   "cell_type": "markdown",
   "metadata": {},
   "source": [
    "To use it, subclass it and override methods visit_Foo, corresponding to the node classes. (see [Meet the Nodes](https://greentreesnakes.readthedocs.io/en/latest/nodes.html)).\n",
    "\n",
    "For example, this visitor will print the names of any functions defined in the given code, including methods and functions defined within other functions:"
   ]
  },
  {
   "cell_type": "code",
   "execution_count": 11,
   "metadata": {},
   "outputs": [],
   "source": [
    "import ast\n",
    "class FuncLister(ast.NodeVisitor):\n",
    "    def visit_FunctionDef(self, node):\n",
    "        print('func_name: ', node.name)\n",
    "        self.generic_visit(node)"
   ]
  },
  {
   "cell_type": "code",
   "execution_count": 13,
   "metadata": {},
   "outputs": [
    {
     "name": "stdout",
     "output_type": "stream",
     "text": [
      "func_name:  a\n",
      "func_name:  b\n",
      "func_name:  c\n"
     ]
    }
   ],
   "source": [
    "source_code = \"\"\"\n",
    "def a():\n",
    "    print('i am a')\n",
    "    \n",
    "def b():\n",
    "    print('call a')\n",
    "    a()\n",
    "    def c():\n",
    "        print('i am c function')\n",
    "    \n",
    "b()\n",
    "\"\"\".strip()\n",
    "FuncLister().visit(ast.parse(source_code))"
   ]
  },
  {
   "cell_type": "markdown",
   "metadata": {},
   "source": [
    "If you want child nodes to be visited, remember to call self.generic_visit(node) in the methods you override."
   ]
  },
  {
   "cell_type": "markdown",
   "metadata": {},
   "source": [
    "Alternatively, you can run through a list of all the nodes in the tree using ast.walk(). There are no guarantees about the order in which nodes will appear. The following example again prints the names of any functions defined within the given code:"
   ]
  },
  {
   "cell_type": "code",
   "execution_count": 14,
   "metadata": {},
   "outputs": [
    {
     "name": "stdout",
     "output_type": "stream",
     "text": [
      "func_name:  a\n",
      "func_name:  b\n",
      "func_name:  c\n"
     ]
    }
   ],
   "source": [
    "import ast\n",
    "\n",
    "source_code = \"\"\"\n",
    "def a():\n",
    "    print('i am a')\n",
    "    \n",
    "def b():\n",
    "    print('call a')\n",
    "    a()\n",
    "    def c():\n",
    "        print('i am c function')\n",
    "    \n",
    "b()\n",
    "\"\"\".strip()\n",
    "\n",
    "tree = ast.parse(source_code)\n",
    "for node in ast.walk(tree):\n",
    "    if isinstance(node, ast.FunctionDef):\n",
    "        print('func_name: ', node.name)"
   ]
  },
  {
   "cell_type": "markdown",
   "metadata": {},
   "source": []
  },
  {
   "cell_type": "markdown",
   "metadata": {},
   "source": []
  },
  {
   "cell_type": "markdown",
   "metadata": {},
   "source": []
  },
  {
   "cell_type": "markdown",
   "metadata": {},
   "source": []
  },
  {
   "cell_type": "markdown",
   "metadata": {},
   "source": []
  },
  {
   "cell_type": "markdown",
   "metadata": {},
   "source": []
  }
 ],
 "metadata": {
  "kernelspec": {
   "display_name": "Python 3",
   "language": "python",
   "name": "python3"
  },
  "language_info": {
   "codemirror_mode": {
    "name": "ipython",
    "version": 3
   },
   "file_extension": ".py",
   "mimetype": "text/x-python",
   "name": "python",
   "nbconvert_exporter": "python",
   "pygments_lexer": "ipython3",
   "version": "3.7.7"
  }
 },
 "nbformat": 4,
 "nbformat_minor": 4
}
