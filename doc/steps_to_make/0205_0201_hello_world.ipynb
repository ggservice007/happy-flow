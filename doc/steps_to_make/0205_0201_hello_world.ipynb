{
 "cells": [
  {
   "cell_type": "markdown",
   "metadata": {},
   "source": [
    "# pickle - hello world"
   ]
  },
  {
   "cell_type": "code",
   "execution_count": 3,
   "metadata": {},
   "outputs": [
    {
     "data": {
      "text/plain": [
       "b'\\x80\\x03]q\\x00}q\\x01(X\\x01\\x00\\x00\\x00aq\\x02X\\x01\\x00\\x00\\x00Aq\\x03X\\x01\\x00\\x00\\x00bq\\x04X\\x01\\x00\\x00\\x002q\\x05X\\x01\\x00\\x00\\x00cq\\x06G@\\x08\\x00\\x00\\x00\\x00\\x00\\x00X\\x01\\x00\\x00\\x00dq\\x07X\\x06\\x00\\x00\\x00\\xe4\\xb8\\xad\\xe6\\x96\\x87q\\x08ua.'"
      ]
     },
     "execution_count": 3,
     "metadata": {},
     "output_type": "execute_result"
    }
   ],
   "source": [
    "import pickle\n",
    "\n",
    "obj = [{\n",
    "    'a': 'A',\n",
    "    'b': '2',\n",
    "    'c': 3.0,\n",
    "    'd': '中文'\n",
    "}]\n",
    "\n",
    "data_string = pickle.dumps(obj)\n",
    "data_string"
   ]
  },
  {
   "cell_type": "markdown",
   "metadata": {},
   "source": []
  }
 ],
 "metadata": {
  "kernelspec": {
   "display_name": "Python 3",
   "language": "python",
   "name": "python3"
  },
  "language_info": {
   "codemirror_mode": {
    "name": "ipython",
    "version": 3
   },
   "file_extension": ".py",
   "mimetype": "text/x-python",
   "name": "python",
   "nbconvert_exporter": "python",
   "pygments_lexer": "ipython3",
   "version": "3.7.7"
  }
 },
 "nbformat": 4,
 "nbformat_minor": 4
}
