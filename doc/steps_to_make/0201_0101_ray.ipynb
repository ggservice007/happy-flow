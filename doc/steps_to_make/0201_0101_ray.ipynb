{
 "cells": [
  {
   "cell_type": "markdown",
   "metadata": {},
   "source": [
    "# Ray"
   ]
  },
  {
   "cell_type": "markdown",
   "metadata": {},
   "source": [
    "Ray provides a simple, universal API for building distributed applications.\n",
    "\n",
    "Ray is packaged with the following libraries for accelerating machine learning workloads:\n",
    "\n",
    "$\\large{🎄}$ Tune: Scalable Hyperparameter Tuning\n",
    "\n",
    "$\\large{🎄}$ RLlib: Scalable Reinforcement Learning\n",
    "\n",
    "$\\large{🎄}$ RaySGD: Distributed Training Wrappers\n",
    "\n",
    "$\\large{🎄}$ Ray Serve: Scalable and Programmable Serving\n"
   ]
  },
  {
   "cell_type": "markdown",
   "metadata": {},
   "source": [
    "## github"
   ]
  },
  {
   "cell_type": "markdown",
   "metadata": {},
   "source": [
    "https://github.com/ray-project/ray"
   ]
  },
  {
   "cell_type": "markdown",
   "metadata": {},
   "source": []
  }
 ],
 "metadata": {
  "kernelspec": {
   "display_name": "Python 3",
   "language": "python",
   "name": "python3"
  },
  "language_info": {
   "codemirror_mode": {
    "name": "ipython",
    "version": 3
   },
   "file_extension": ".py",
   "mimetype": "text/x-python",
   "name": "python",
   "nbconvert_exporter": "python",
   "pygments_lexer": "ipython3",
   "version": "3.7.7"
  },
  "toc-autonumbering": true
 },
 "nbformat": 4,
 "nbformat_minor": 4
}
