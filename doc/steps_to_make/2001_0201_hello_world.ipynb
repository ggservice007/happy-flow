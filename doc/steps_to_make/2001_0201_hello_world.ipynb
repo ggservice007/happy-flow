{
 "cells": [
  {
   "cell_type": "markdown",
   "metadata": {},
   "source": [
    "# ast - hello world"
   ]
  },
  {
   "cell_type": "code",
   "execution_count": 1,
   "metadata": {},
   "outputs": [],
   "source": [
    "%reload_ext autoreload\n",
    "%autoreload 2"
   ]
  },
  {
   "cell_type": "code",
   "execution_count": 4,
   "metadata": {},
   "outputs": [
    {
     "name": "stdout",
     "output_type": "stream",
     "text": [
      "    def run(self, url):\n",
      "        print(url)\n",
      "\n"
     ]
    }
   ],
   "source": [
    "import sys\n",
    "import importlib\n",
    "from pathlib import Path\n",
    "\n",
    "my_happy_flow_path = str(Path('../../src').resolve())\n",
    "\n",
    "\n",
    "if my_happy_flow_path not in sys.path:\n",
    "    sys.path.append(my_happy_flow_path)\n",
    "\n",
    "from my_happy_flow import Job\n",
    " \n",
    "\n",
    "class FirstJob(Job):\n",
    "    def run(self, url):\n",
    "        print(url)\n",
    "\n",
    "\n",
    "myJob = FirstJob(name=\"我的第一个job\")\n",
    "\n",
    "run_source_code = myJob.visualize()\n",
    "\n",
    "print(run_source_code)"
   ]
  },
  {
   "cell_type": "code",
   "execution_count": null,
   "metadata": {},
   "outputs": [],
   "source": []
  },
  {
   "cell_type": "code",
   "execution_count": null,
   "metadata": {},
   "outputs": [],
   "source": []
  }
 ],
 "metadata": {
  "kernelspec": {
   "display_name": "Python 3",
   "language": "python",
   "name": "python3"
  },
  "language_info": {
   "codemirror_mode": {
    "name": "ipython",
    "version": 3
   },
   "file_extension": ".py",
   "mimetype": "text/x-python",
   "name": "python",
   "nbconvert_exporter": "python",
   "pygments_lexer": "ipython3",
   "version": "3.7.7"
  },
  "toc-autonumbering": true
 },
 "nbformat": 4,
 "nbformat_minor": 4
}
