{
 "cells": [
  {
   "cell_type": "markdown",
   "metadata": {},
   "source": [
    "# ast - hello world"
   ]
  },
  {
   "cell_type": "code",
   "execution_count": 1,
   "metadata": {},
   "outputs": [],
   "source": [
    "%reload_ext autoreload\n",
    "%autoreload 2"
   ]
  },
  {
   "cell_type": "markdown",
   "metadata": {},
   "source": [
    "## very simple"
   ]
  },
  {
   "cell_type": "code",
   "execution_count": 20,
   "metadata": {},
   "outputs": [
    {
     "name": "stdout",
     "output_type": "stream",
     "text": [
      "def run(self):\n",
      "        @ray.remote\n",
      "        def hello():\n",
      "            print('hello')\n",
      "\n",
      "\n",
      "        ray.get(hello.remote())\n",
      "<_ast.Module object at 0x7fb18822a810>\n",
      "\u001b[2m\u001b[36m(pid=1625)\u001b[0m hello\n"
     ]
    }
   ],
   "source": [
    "import ast\n",
    "import ray\n",
    "import numpy as np\n",
    "import sys\n",
    "import importlib\n",
    "from pathlib import Path\n",
    "\n",
    "my_happy_flow_path = str(Path('../../src').resolve())\n",
    "my_lib_path = str(Path('my_lib').resolve())\n",
    "\n",
    "if my_lib_path not in sys.path:\n",
    "    sys.path.append(my_lib_path)\n",
    "\n",
    "\n",
    "if my_happy_flow_path not in sys.path:\n",
    "    sys.path.append(my_happy_flow_path)\n",
    "\n",
    "from my_happy_flow import Job\n",
    " \n",
    "\n",
    "class FirstJob(Job):\n",
    "    def run(self):\n",
    "        @ray.remote\n",
    "        def hello():\n",
    "            print('hello')\n",
    "\n",
    "\n",
    "        ray.get(hello.remote())\n",
    "        \n",
    "\n",
    "myJob = FirstJob(name=\"first job\")\n",
    "\n",
    "run_source_code = myJob.visualize().strip()\n",
    "\n",
    "print(run_source_code)\n",
    "\n",
    "myJob.run()\n",
    "\n",
    "tree = ast.parse(run_source_code)\n",
    "\n",
    "print(tree)"
   ]
  },
  {
   "cell_type": "markdown",
   "metadata": {},
   "source": [
    "## try parse print"
   ]
  },
  {
   "cell_type": "code",
   "execution_count": 24,
   "metadata": {},
   "outputs": [
    {
     "name": "stdout",
     "output_type": "stream",
     "text": [
      "node <_ast.Module object at 0x7fb188204d50>\n"
     ]
    }
   ],
   "source": [
    "import ast\n",
    "import ray\n",
    "import numpy as np\n",
    "import sys\n",
    "import importlib\n",
    "from pathlib import Path\n",
    "\n",
    "my_happy_flow_path = str(Path('../../src').resolve())\n",
    "my_lib_path = str(Path('my_lib').resolve())\n",
    "\n",
    "if my_lib_path not in sys.path:\n",
    "    sys.path.append(my_lib_path)\n",
    "\n",
    "\n",
    "if my_happy_flow_path not in sys.path:\n",
    "    sys.path.append(my_happy_flow_path)\n",
    "\n",
    "from my_happy_flow import Job\n",
    "from ast_utils import print_utils\n",
    " \n",
    "\n",
    "class FirstJob(Job):\n",
    "    def run(self):\n",
    "        @ray.remote\n",
    "        def hello():\n",
    "            print('hello')\n",
    "\n",
    "\n",
    "        ray.get(hello.remote())\n",
    "        \n",
    "\n",
    "myJob = FirstJob(name=\"first job\")\n",
    "\n",
    "run_source_code = myJob.visualize().strip()\n",
    "\n",
    "print_utils.parseprint(run_source_code)\n"
   ]
  },
  {
   "cell_type": "code",
   "execution_count": 8,
   "metadata": {},
   "outputs": [
    {
     "name": "stdout",
     "output_type": "stream",
     "text": [
      "    def run(self):\n",
      "        @ray.remote\n",
      "        def create_matrix(size):\n",
      "            return np.random.normal(size=size)\n",
      "\n",
      "\n",
      "        @ray.remote\n",
      "        def multiply_matrices(x, y):\n",
      "            return np.dot(x, y)\n",
      "\n",
      "        x_id = create_matrix.remote([1000, 1000])\n",
      "        y_id = create_matrix.remote([1000, 1000])\n",
      "        z_id = multiply_matrices.remote(x_id, y_id)\n",
      "\n",
      "        # Get the results.\n",
      "        results = ray.get(z_id)\n",
      "        print(results)\n",
      "\n"
     ]
    }
   ],
   "source": [
    "import ray\n",
    "import numpy as np\n",
    "import sys\n",
    "import importlib\n",
    "from pathlib import Path\n",
    "\n",
    "my_happy_flow_path = str(Path('../../src').resolve())\n",
    "\n",
    "\n",
    "if my_happy_flow_path not in sys.path:\n",
    "    sys.path.append(my_happy_flow_path)\n",
    "\n",
    "from my_happy_flow import Job\n",
    " \n",
    "\n",
    "class FirstJob(Job):\n",
    "    def run(self):\n",
    "        @ray.remote\n",
    "        def create_matrix(size):\n",
    "            return np.random.normal(size=size)\n",
    "\n",
    "\n",
    "        @ray.remote\n",
    "        def multiply_matrices(x, y):\n",
    "            return np.dot(x, y)\n",
    "\n",
    "        x_id = create_matrix.remote([1000, 1000])\n",
    "        y_id = create_matrix.remote([1000, 1000])\n",
    "        z_id = multiply_matrices.remote(x_id, y_id)\n",
    "\n",
    "        # Get the results.\n",
    "        results = ray.get(z_id)\n",
    "        print(results)\n",
    "\n",
    "\n",
    "myJob = FirstJob(name=\"first job\")\n",
    "\n",
    "run_source_code = myJob.visualize()\n",
    "\n",
    "print(run_source_code)\n"
   ]
  },
  {
   "cell_type": "code",
   "execution_count": null,
   "metadata": {},
   "outputs": [],
   "source": []
  },
  {
   "cell_type": "code",
   "execution_count": null,
   "metadata": {},
   "outputs": [],
   "source": []
  }
 ],
 "metadata": {
  "kernelspec": {
   "display_name": "Python 3",
   "language": "python",
   "name": "python3"
  },
  "language_info": {
   "codemirror_mode": {
    "name": "ipython",
    "version": 3
   },
   "file_extension": ".py",
   "mimetype": "text/x-python",
   "name": "python",
   "nbconvert_exporter": "python",
   "pygments_lexer": "ipython3",
   "version": "3.7.7"
  },
  "toc-autonumbering": true
 },
 "nbformat": 4,
 "nbformat_minor": 4
}
