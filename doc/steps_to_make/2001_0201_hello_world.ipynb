{
 "cells": [
  {
   "cell_type": "markdown",
   "metadata": {},
   "source": [
    "# ast - hello world"
   ]
  },
  {
   "cell_type": "code",
   "execution_count": 5,
   "metadata": {},
   "outputs": [],
   "source": [
    "%reload_ext autoreload\n",
    "%autoreload 2"
   ]
  },
  {
   "cell_type": "markdown",
   "metadata": {},
   "source": [
    "## very simple"
   ]
  },
  {
   "cell_type": "code",
   "execution_count": 7,
   "metadata": {},
   "outputs": [
    {
     "name": "stdout",
     "output_type": "stream",
     "text": [
      "def run(self):\n",
      "        \n",
      "        if not ray.is_initialized():\n",
      "            ray.init(address='auto')\n",
      "            \n",
      "        @ray.remote\n",
      "        def hello():\n",
      "            print('hello')\n",
      "\n",
      "\n",
      "        ray.get(hello.remote())\n",
      "<_ast.Module object at 0x7f7659ef4890>\n",
      "\u001b[2m\u001b[36m(pid=1682)\u001b[0m hello\n"
     ]
    }
   ],
   "source": [
    "import ast\n",
    "import ray\n",
    "import numpy as np\n",
    "import sys\n",
    "import importlib\n",
    "from pathlib import Path\n",
    "\n",
    "my_happy_flow_path = str(Path('../../src').resolve())\n",
    "my_lib_path = str(Path('my_lib').resolve())\n",
    "\n",
    "if my_lib_path not in sys.path:\n",
    "    sys.path.append(my_lib_path)\n",
    "\n",
    "\n",
    "if my_happy_flow_path not in sys.path:\n",
    "    sys.path.append(my_happy_flow_path)\n",
    "\n",
    "from my_happy_flow import Job\n",
    " \n",
    "\n",
    "class FirstJob(Job):\n",
    "    def run(self):\n",
    "        \n",
    "        if not ray.is_initialized():\n",
    "            ray.init(address='auto')\n",
    "            \n",
    "        @ray.remote\n",
    "        def hello():\n",
    "            print('hello')\n",
    "\n",
    "\n",
    "        ray.get(hello.remote())\n",
    "        \n",
    "\n",
    "myJob = FirstJob(name=\"first job\")\n",
    "\n",
    "run_source_code = myJob.visualize().strip()\n",
    "\n",
    "print(run_source_code)\n",
    "\n",
    "myJob.run()\n",
    "\n",
    "tree = ast.parse(run_source_code)\n",
    "\n",
    "print(tree)"
   ]
  },
  {
   "cell_type": "markdown",
   "metadata": {},
   "source": [
    "## try parse print"
   ]
  },
  {
   "cell_type": "code",
   "execution_count": 9,
   "metadata": {},
   "outputs": [
    {
     "name": "stdout",
     "output_type": "stream",
     "text": [
      "Module(body=[\n",
      "  FunctionDef(name='run', args=arguments(args=[\n",
      "    arg(arg='self', annotation=None),\n",
      "   ], vararg=None, kwonlyargs=[], kw_defaults=[], kwarg=None, defaults=[]), body=[\n",
      "    If(test=UnaryOp(op=Not(), operand=Call(func=Attribute(value=Name(id='ray', ctx=Load()), attr='is_initialized', ctx=Load()), args=[], keywords=[])), body=[\n",
      "      Expr(value=Call(func=Attribute(value=Name(id='ray', ctx=Load()), attr='init', ctx=Load()), args=[], keywords=[\n",
      "        keyword(arg='address', value=Str(s='auto')),\n",
      "       ])),\n",
      "     ], orelse=[]),\n",
      "    FunctionDef(name='hello', args=arguments(args=[], vararg=None, kwonlyargs=[], kw_defaults=[], kwarg=None, defaults=[]), body=[\n",
      "      Expr(value=Call(func=Name(id='print', ctx=Load()), args=[\n",
      "        Str(s='hello'),\n",
      "       ], keywords=[])),\n",
      "     ], decorator_list=[\n",
      "      Attribute(value=Name(id='ray', ctx=Load()), attr='remote', ctx=Load()),\n",
      "     ], returns=None),\n",
      "    Expr(value=Call(func=Attribute(value=Name(id='ray', ctx=Load()), attr='get', ctx=Load()), args=[\n",
      "      Call(func=Attribute(value=Name(id='hello', ctx=Load()), attr='remote', ctx=Load()), args=[], keywords=[]),\n",
      "     ], keywords=[])),\n",
      "   ], decorator_list=[], returns=None),\n",
      " ])\n"
     ]
    }
   ],
   "source": [
    "import ast\n",
    "import ray\n",
    "import numpy as np\n",
    "import sys\n",
    "import importlib\n",
    "from pathlib import Path\n",
    "\n",
    "my_happy_flow_path = str(Path('../../src').resolve())\n",
    "my_lib_path = str(Path('my_lib').resolve())\n",
    "\n",
    "if my_lib_path not in sys.path:\n",
    "    sys.path.append(my_lib_path)\n",
    "\n",
    "\n",
    "if my_happy_flow_path not in sys.path:\n",
    "    sys.path.append(my_happy_flow_path)\n",
    "\n",
    "from my_happy_flow import Job\n",
    "from ast_utils import print_utils\n",
    " \n",
    "\n",
    "class FirstJob(Job):\n",
    "    def run(self):\n",
    "        \n",
    "        if not ray.is_initialized():\n",
    "            ray.init(address='auto')\n",
    "        \n",
    "        @ray.remote\n",
    "        def hello():\n",
    "            print('hello')\n",
    "\n",
    "\n",
    "        ray.get(hello.remote())\n",
    "        \n",
    "\n",
    "myJob = FirstJob(name=\"first job\")\n",
    "\n",
    "run_source_code = myJob.visualize().strip()\n",
    "\n",
    "print_utils.parseprint(run_source_code)\n"
   ]
  },
  {
   "cell_type": "code",
   "execution_count": null,
   "metadata": {},
   "outputs": [],
   "source": []
  },
  {
   "cell_type": "code",
   "execution_count": null,
   "metadata": {},
   "outputs": [],
   "source": []
  }
 ],
 "metadata": {
  "kernelspec": {
   "display_name": "Python 3",
   "language": "python",
   "name": "python3"
  },
  "language_info": {
   "codemirror_mode": {
    "name": "ipython",
    "version": 3
   },
   "file_extension": ".py",
   "mimetype": "text/x-python",
   "name": "python",
   "nbconvert_exporter": "python",
   "pygments_lexer": "ipython3",
   "version": "3.7.7"
  },
  "toc-autonumbering": true
 },
 "nbformat": 4,
 "nbformat_minor": 4
}
