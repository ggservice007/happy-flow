{
 "cells": [
  {
   "cell_type": "markdown",
   "metadata": {},
   "source": [
    "# ast unparese"
   ]
  },
  {
   "cell_type": "code",
   "execution_count": 1,
   "metadata": {},
   "outputs": [],
   "source": [
    "%reload_ext autoreload\n",
    "%autoreload 2\n",
    "\n",
    "import sys\n",
    "from pathlib import Path\n",
    "\n",
    "my_happy_flow_path = str(Path('../../src').resolve())\n",
    "my_lib_path = str(Path('my_lib').resolve())\n",
    "\n",
    "if my_lib_path not in sys.path:\n",
    "    sys.path.append(my_lib_path)\n",
    "\n",
    "\n",
    "if my_happy_flow_path not in sys.path:\n",
    "    sys.path.append(my_happy_flow_path)\n",
    "    \n"
   ]
  },
  {
   "cell_type": "markdown",
   "metadata": {},
   "source": [
    "## unparse - hello"
   ]
  },
  {
   "cell_type": "code",
   "execution_count": 15,
   "metadata": {},
   "outputs": [
    {
     "name": "stdout",
     "output_type": "stream",
     "text": [
      "\n",
      "import sys\n",
      "from pathlib import Path\n",
      "my_happy_flow_path = str(Path('../../src').resolve())\n",
      "my_lib_path = str(Path('my_lib').resolve())\n",
      "if (my_lib_path not in sys.path):\n",
      "    sys.path.append(my_lib_path)\n",
      "if (my_happy_flow_path not in sys.path):\n",
      "    sys.path.append(my_happy_flow_path)\n",
      "\n"
     ]
    }
   ],
   "source": [
    "import ast\n",
    "import ast_utils\n",
    "\n",
    "source_code = \"\"\"\n",
    "import sys\n",
    "from pathlib import Path\n",
    "\n",
    "my_happy_flow_path = str(Path('../../src').resolve())\n",
    "my_lib_path = str(Path('my_lib').resolve())\n",
    "\n",
    "if my_lib_path not in sys.path:\n",
    "    sys.path.append(my_lib_path)\n",
    "\n",
    "\n",
    "if my_happy_flow_path not in sys.path:\n",
    "    sys.path.append(my_happy_flow_path)\n",
    "\n",
    "\"\"\"\n",
    "\n",
    "print(ast_utils.unparse(ast.parse(source_code)))"
   ]
  },
  {
   "cell_type": "code",
   "execution_count": null,
   "metadata": {},
   "outputs": [],
   "source": []
  }
 ],
 "metadata": {
  "kernelspec": {
   "display_name": "Python 3",
   "language": "python",
   "name": "python3"
  },
  "language_info": {
   "codemirror_mode": {
    "name": "ipython",
    "version": 3
   },
   "file_extension": ".py",
   "mimetype": "text/x-python",
   "name": "python",
   "nbconvert_exporter": "python",
   "pygments_lexer": "ipython3",
   "version": "3.7.7"
  }
 },
 "nbformat": 4,
 "nbformat_minor": 4
}
