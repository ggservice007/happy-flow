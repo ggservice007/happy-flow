{
 "cells": [
  {
   "cell_type": "markdown",
   "metadata": {},
   "source": [
    "# Task DAG"
   ]
  },
  {
   "cell_type": "code",
   "execution_count": 3,
   "metadata": {},
   "outputs": [
    {
     "name": "stdout",
     "output_type": "stream",
     "text": [
      "CPU times: user 20.2 ms, sys: 7.08 ms, total: 27.3 ms\n",
      "Wall time: 107 ms\n"
     ]
    },
    {
     "data": {
      "text/html": [
       "<a href=\"data/output/images/0101_0101_task_basic.png\" target='blank'><h4>fig - task basic</h4></a>\n",
       "<img src=\"data/output/images/0101_0101_task_basic.png\" style=\"max-width: 100%\" />"
      ],
      "text/plain": [
       "<IPython.core.display.HTML object>"
      ]
     },
     "execution_count": 3,
     "metadata": {},
     "output_type": "execute_result"
    }
   ],
   "source": [
    "%%time\n",
    "\n",
    "import time\n",
    "import ray\n",
    "import numpy as np\n",
    "\n",
    "from pycallgraph2 import PyCallGraph\n",
    "from pycallgraph2.output import GraphvizOutput\n",
    "\n",
    "from happy_jupyter_utils import imageUtils\n",
    "\n",
    "if not ray.is_initialized():\n",
    "    ray.init(address='auto')\n",
    "    \n",
    "\n",
    "@ray.remote\n",
    "def create_matrix(size):\n",
    "    return np.random.normal(size=size)\n",
    "\n",
    "\n",
    "@ray.remote\n",
    "def multiply_matrices(x, y):\n",
    "    return np.dot(x, y)\n",
    "\n",
    "def run():\n",
    "    file_path = '/'.join([\n",
    "            'data/output/images',\n",
    "            '0101_0101_task_basic.png'\n",
    "        ])\n",
    "    graphviz = GraphvizOutput()\n",
    "    graphviz.output_file = file_path\n",
    "    with PyCallGraph(output=graphviz):\n",
    "        x_id = create_matrix.remote([1000, 1000])\n",
    "        y_id = create_matrix.remote([1000, 1000])\n",
    "        z_id = multiply_matrices.remote(x_id, y_id)\n",
    "\n",
    "        # Get the results.\n",
    "        results = ray.get(z_id)\n",
    "        \n",
    "    return imageUtils.show_image_with_title_by_url({\n",
    "                'url': file_path,\n",
    "                'title': \"fig - task basic\"\n",
    "            })\n",
    "        \n",
    "    \n",
    "    \n",
    "run()\n",
    "\n"
   ]
  },
  {
   "cell_type": "markdown",
   "metadata": {},
   "source": []
  },
  {
   "cell_type": "markdown",
   "metadata": {},
   "source": []
  }
 ],
 "metadata": {
  "kernelspec": {
   "display_name": "Python 3",
   "language": "python",
   "name": "python3"
  },
  "language_info": {
   "codemirror_mode": {
    "name": "ipython",
    "version": 3
   },
   "file_extension": ".py",
   "mimetype": "text/x-python",
   "name": "python",
   "nbconvert_exporter": "python",
   "pygments_lexer": "ipython3",
   "version": "3.7.7"
  }
 },
 "nbformat": 4,
 "nbformat_minor": 4
}
