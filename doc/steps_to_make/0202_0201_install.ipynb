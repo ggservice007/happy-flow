{
 "cells": [
  {
   "cell_type": "markdown",
   "metadata": {},
   "source": [
    "# pycallgraph2"
   ]
  },
  {
   "cell_type": "code",
   "execution_count": 1,
   "metadata": {
    "jupyter": {
     "source_hidden": true
    }
   },
   "outputs": [
    {
     "data": {
      "text/markdown": [
       "```shell\n",
       "python3.7 -m pip install -U \"pycallgraph2\"\n",
       "```"
      ],
      "text/plain": [
       "<IPython.core.display.Markdown object>"
      ]
     },
     "execution_count": 1,
     "metadata": {},
     "output_type": "execute_result"
    }
   ],
   "source": [
    "from happy_jupyter_utils import markDownUtils\n",
    "\n",
    "\n",
    "markDownUtils.get_code_snippet({\n",
    "    'file_path': '/'.join([\n",
    "        '..',\n",
    "        '0003_0001_markdown',\n",
    "        '1000_0101_command.sh'\n",
    "    ]),\n",
    "    'title': '',\n",
    "    'show_line_number': False,\n",
    "    'line_numbers': \"\",\n",
    "    'start_line_number': 6,\n",
    "    'end_line_number': 6,\n",
    "    'language': 'shell'\n",
    "})\n",
    "\n"
   ]
  },
  {
   "cell_type": "markdown",
   "metadata": {},
   "source": []
  }
 ],
 "metadata": {
  "kernelspec": {
   "display_name": "Python 3",
   "language": "python",
   "name": "python3"
  },
  "language_info": {
   "codemirror_mode": {
    "name": "ipython",
    "version": 3
   },
   "file_extension": ".py",
   "mimetype": "text/x-python",
   "name": "python",
   "nbconvert_exporter": "python",
   "pygments_lexer": "ipython3",
   "version": "3.7.7"
  },
  "toc-autonumbering": true
 },
 "nbformat": 4,
 "nbformat_minor": 4
}
