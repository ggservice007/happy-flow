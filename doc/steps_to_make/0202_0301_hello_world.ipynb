{
 "cells": [
  {
   "cell_type": "markdown",
   "metadata": {},
   "source": [
    "# pycallgraph2 - hello world"
   ]
  },
  {
   "cell_type": "markdown",
   "metadata": {},
   "source": [
    "## basic"
   ]
  },
  {
   "cell_type": "code",
   "execution_count": 14,
   "metadata": {},
   "outputs": [
    {
     "name": "stdout",
     "output_type": "stream",
     "text": [
      "I am test function\n",
      "I am sub test\n",
      "I am sub test\n",
      "CPU times: user 5.29 ms, sys: 2 ms, total: 7.28 ms\n",
      "Wall time: 2.03 s\n"
     ]
    },
    {
     "data": {
      "text/html": [
       "<a href=\"data/output/images/basic.png\" target='blank'><h4>fig - basic flow</h4></a>\n",
       "<img src=\"data/output/images/basic.png\" style=\"max-width: 100%\" />"
      ],
      "text/plain": [
       "<IPython.core.display.HTML object>"
      ]
     },
     "execution_count": 14,
     "metadata": {},
     "output_type": "execute_result"
    }
   ],
   "source": [
    "%%time\n",
    "\n",
    "import time\n",
    "from pycallgraph2 import PyCallGraph\n",
    "from pycallgraph2.output import GraphvizOutput\n",
    "\n",
    "from happy_jupyter_utils import imageUtils\n",
    "\n",
    "def sub_test():\n",
    "    time.sleep(1)\n",
    "    print(\"I am sub test\")\n",
    "\n",
    "def test():\n",
    "    print(\"I am test function\")\n",
    "    sub_test()\n",
    "\n",
    "def run():\n",
    "    file_path = '/'.join([\n",
    "            'data/output/images',\n",
    "            'basic.png'\n",
    "        ])\n",
    "    graphviz = GraphvizOutput()\n",
    "    graphviz.output_file = file_path\n",
    "    with PyCallGraph(output=graphviz):\n",
    "        test()\n",
    "        sub_test()\n",
    "        \n",
    "    return imageUtils.show_image_with_title_by_url({\n",
    "                'url': file_path,\n",
    "                'title': \"fig - basic flow\"\n",
    "            })\n",
    "        \n",
    "    \n",
    "    \n",
    "run()\n",
    "\n"
   ]
  },
  {
   "cell_type": "markdown",
   "metadata": {},
   "source": []
  }
 ],
 "metadata": {
  "kernelspec": {
   "display_name": "Python 3",
   "language": "python",
   "name": "python3"
  },
  "language_info": {
   "codemirror_mode": {
    "name": "ipython",
    "version": 3
   },
   "file_extension": ".py",
   "mimetype": "text/x-python",
   "name": "python",
   "nbconvert_exporter": "python",
   "pygments_lexer": "ipython3",
   "version": "3.7.7"
  }
 },
 "nbformat": 4,
 "nbformat_minor": 4
}
