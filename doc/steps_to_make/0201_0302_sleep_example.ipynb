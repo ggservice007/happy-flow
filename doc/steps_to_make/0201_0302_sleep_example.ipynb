{
 "cells": [
  {
   "cell_type": "markdown",
   "metadata": {},
   "source": [
    "# Sleep Example"
   ]
  },
  {
   "cell_type": "markdown",
   "metadata": {},
   "source": [
    "## basic"
   ]
  },
  {
   "cell_type": "code",
   "execution_count": 28,
   "metadata": {},
   "outputs": [
    {
     "name": "stdout",
     "output_type": "stream",
     "text": [
      "0 2021-01-17 23:23:47.007591\n",
      "1 2021-01-17 23:23:47.007940\n",
      "2 2021-01-17 23:23:47.007810\n",
      "3 2021-01-17 23:23:47.008365\n",
      "4 2021-01-17 23:23:47.008854\n",
      "5 2021-01-17 23:23:47.009069\n",
      "6 2021-01-17 23:23:47.009375\n",
      "7 2021-01-17 23:23:47.009358\n",
      "8 2021-01-17 23:23:47.009373\n",
      "9 2021-01-17 23:23:47.010029\n",
      "10 2021-01-17 23:23:47.222721\n",
      "11 2021-01-17 23:23:47.430205\n",
      "\n",
      "CPU times: user 23.1 ms, sys: 199 µs, total: 23.3 ms\n",
      "Wall time: 1.43 s\n"
     ]
    }
   ],
   "source": [
    "%%time\n",
    "import ray\n",
    "import time\n",
    "import datetime\n",
    "\n",
    "if not ray.is_initialized():\n",
    "    ray.init(address='auto')\n",
    "    \n",
    "@ray.remote\n",
    "def f(i):\n",
    "    time.sleep(1)\n",
    "    now_str = f\"{datetime.datetime.now():%Y-%m-%d %H:%M:%S.%f}\"\n",
    "    return str(i) + ' ' + now_str\n",
    "\n",
    "futures = [f.remote(i) for i in range(12)]\n",
    "\n",
    "results = ray.get(futures)\n",
    "\n",
    "for item in results:\n",
    "    print(item)\n",
    "    \n",
    "    \n",
    "print('')"
   ]
  },
  {
   "cell_type": "markdown",
   "metadata": {},
   "source": [
    "## result ids"
   ]
  },
  {
   "cell_type": "code",
   "execution_count": 29,
   "metadata": {},
   "outputs": [
    {
     "name": "stdout",
     "output_type": "stream",
     "text": [
      "[0, 1, 2, 3]\n",
      "\n",
      "CPU times: user 12.3 ms, sys: 2.08 ms, total: 14.4 ms\n",
      "Wall time: 1 s\n"
     ]
    }
   ],
   "source": [
    "%%time\n",
    "import ray\n",
    "import time\n",
    "\n",
    "if not ray.is_initialized():\n",
    "    ray.init(address='auto')\n",
    "    \n",
    "@ray.remote    \n",
    "def f(x):\n",
    "    time.sleep(1)\n",
    "    return x\n",
    "\n",
    "\n",
    "# start 4 tasks in parallel.\n",
    "result_ids = []\n",
    "for i in range(4):\n",
    "    result_ids.append(f.remote(i))\n",
    "    \n",
    "\n",
    "# Wait for the tasks to complete and retrive the results.\n",
    "# With at least 4 cores, this will take 1 second.\n",
    "results = ray.get(result_ids)\n",
    "\n",
    "print(results)\n",
    "\n",
    "print('')"
   ]
  },
  {
   "cell_type": "code",
   "execution_count": null,
   "metadata": {},
   "outputs": [],
   "source": []
  }
 ],
 "metadata": {
  "kernelspec": {
   "display_name": "Python 3",
   "language": "python",
   "name": "python3"
  },
  "language_info": {
   "codemirror_mode": {
    "name": "ipython",
    "version": 3
   },
   "file_extension": ".py",
   "mimetype": "text/x-python",
   "name": "python",
   "nbconvert_exporter": "python",
   "pygments_lexer": "ipython3",
   "version": "3.7.7"
  }
 },
 "nbformat": 4,
 "nbformat_minor": 4
}
