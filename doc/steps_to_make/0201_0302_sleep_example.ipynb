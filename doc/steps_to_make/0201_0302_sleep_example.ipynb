{
 "cells": [
  {
   "cell_type": "markdown",
   "metadata": {},
   "source": [
    "# Sleep Example"
   ]
  },
  {
   "cell_type": "markdown",
   "metadata": {},
   "source": [
    "## basic"
   ]
  },
  {
   "cell_type": "code",
   "execution_count": 2,
   "metadata": {},
   "outputs": [
    {
     "name": "stdout",
     "output_type": "stream",
     "text": [
      "0 2021-01-18 20:42:57.608129\n",
      "1 2021-01-18 20:42:57.608707\n",
      "2 2021-01-18 20:42:57.608129\n",
      "3 2021-01-18 20:42:57.608501\n",
      "4 2021-01-18 20:42:57.609442\n",
      "5 2021-01-18 20:42:57.609657\n",
      "6 2021-01-18 20:42:57.609442\n",
      "7 2021-01-18 20:42:57.610028\n",
      "8 2021-01-18 20:42:57.610088\n",
      "9 2021-01-18 20:42:57.610553\n",
      "10 2021-01-18 20:42:57.610501\n",
      "11 2021-01-18 20:42:57.610460\n",
      "\n",
      "CPU times: user 17.5 ms, sys: 2.94 ms, total: 20.5 ms\n",
      "Wall time: 1.01 s\n"
     ]
    }
   ],
   "source": [
    "%%time\n",
    "import ray\n",
    "import time\n",
    "import datetime\n",
    "\n",
    "if not ray.is_initialized():\n",
    "    ray.init(address='auto')\n",
    "    \n",
    "@ray.remote\n",
    "def f(i):\n",
    "    time.sleep(1)\n",
    "    now_str = f\"{datetime.datetime.now():%Y-%m-%d %H:%M:%S.%f}\"\n",
    "    return str(i) + ' ' + now_str\n",
    "\n",
    "futures = [f.remote(i) for i in range(12)]\n",
    "\n",
    "results = ray.get(futures)\n",
    "\n",
    "for item in results:\n",
    "    print(item)\n",
    "    \n",
    "    \n",
    "print('')"
   ]
  },
  {
   "cell_type": "markdown",
   "metadata": {},
   "source": [
    "## result ids"
   ]
  },
  {
   "cell_type": "code",
   "execution_count": 3,
   "metadata": {},
   "outputs": [
    {
     "name": "stdout",
     "output_type": "stream",
     "text": [
      "[0, 1, 2, 3]\n",
      "\n",
      "CPU times: user 16.9 ms, sys: 0 ns, total: 16.9 ms\n",
      "Wall time: 1.01 s\n"
     ]
    },
    {
     "name": "stderr",
     "output_type": "stream",
     "text": [
      "2021-01-18 20:52:05,142\tERROR worker.py:942 -- print_logs: Connection closed by server.\n",
      "2021-01-18 20:52:05,143\tERROR import_thread.py:89 -- ImportThread: Connection closed by server.\n",
      "2021-01-18 20:52:05,143\tERROR worker.py:1036 -- listen_error_messages_raylet: Connection closed by server.\n"
     ]
    }
   ],
   "source": [
    "%%time\n",
    "import ray\n",
    "import time\n",
    "\n",
    "if not ray.is_initialized():\n",
    "    ray.init(address='auto')\n",
    "    \n",
    "@ray.remote    \n",
    "def f(x):\n",
    "    time.sleep(1)\n",
    "    return x\n",
    "\n",
    "\n",
    "# start 4 tasks in parallel.\n",
    "result_ids = []\n",
    "for i in range(4):\n",
    "    result_ids.append(f.remote(i))\n",
    "    \n",
    "\n",
    "# Wait for the tasks to complete and retrive the results.\n",
    "# With at least 4 cores, this will take 1 second.\n",
    "results = ray.get(result_ids)\n",
    "\n",
    "print(results)\n",
    "\n",
    "print('')"
   ]
  },
  {
   "cell_type": "code",
   "execution_count": null,
   "metadata": {},
   "outputs": [],
   "source": []
  }
 ],
 "metadata": {
  "kernelspec": {
   "display_name": "Python 3",
   "language": "python",
   "name": "python3"
  },
  "language_info": {
   "codemirror_mode": {
    "name": "ipython",
    "version": 3
   },
   "file_extension": ".py",
   "mimetype": "text/x-python",
   "name": "python",
   "nbconvert_exporter": "python",
   "pygments_lexer": "ipython3",
   "version": "3.7.7"
  }
 },
 "nbformat": 4,
 "nbformat_minor": 4
}
