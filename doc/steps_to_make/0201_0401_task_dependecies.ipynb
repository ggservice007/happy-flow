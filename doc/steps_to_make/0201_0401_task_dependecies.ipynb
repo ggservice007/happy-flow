{
 "cells": [
  {
   "cell_type": "markdown",
   "metadata": {},
   "source": [
    "# Task Dependencies"
   ]
  },
  {
   "cell_type": "markdown",
   "metadata": {},
   "source": [
    "Tasks can also depend on other tasks. \n",
    "\n",
    "Below, the multiply_matrices task uses the outputs of the two create_matrix tasks, so it will not begin executing until after the first two tasks have executed. The outputs of the first two tasks will automatically be passed as arguments into the third task and the futures will be replaced with their corresponding values). In this manner, tasks can be composed together with arbitrary DAG dependencies.\n",
    "\n",
    "https://towardsdatascience.com/modern-parallel-and-distributed-python-a-quick-tutorial-on-ray-99f8d70369b8"
   ]
  },
  {
   "cell_type": "code",
   "execution_count": 2,
   "metadata": {},
   "outputs": [
    {
     "name": "stdout",
     "output_type": "stream",
     "text": [
      "[[  6.81678238 -48.7313224  -15.30065975 ...   8.4008561   -9.33198508\n",
      "   18.83974835]\n",
      " [-10.26230456  -9.44370041 -20.34085492 ... -36.00962888  55.94387798\n",
      "  -33.60136524]\n",
      " [ 12.06071196 -36.10015695  15.54587119 ...  51.17334177 -13.46035682\n",
      "    1.6739171 ]\n",
      " ...\n",
      " [-24.78140243  15.30003298  16.18070892 ...  18.37402066  -4.5434318\n",
      "  -54.76505381]\n",
      " [ 33.76631496 -10.76883216   2.21769828 ...  68.69885563  36.10843036\n",
      "   35.58624315]\n",
      " [ 62.32316837  25.64319443  -3.6124488  ...  23.00164068  24.29239512\n",
      "  -28.0071761 ]]\n",
      "\n",
      "CPU times: user 6.94 ms, sys: 1.14 ms, total: 8.08 ms\n",
      "Wall time: 81.2 ms\n"
     ]
    }
   ],
   "source": [
    "%%time\n",
    "import ray\n",
    "import numpy as np\n",
    "\n",
    "if not ray.is_initialized():\n",
    "    ray.init(address='auto')\n",
    "    \n",
    "\n",
    "@ray.remote\n",
    "def create_matrix(size):\n",
    "    return np.random.normal(size=size)\n",
    "\n",
    "\n",
    "@ray.remote\n",
    "def multiply_matrices(x, y):\n",
    "    return np.dot(x, y)\n",
    "\n",
    "x_id = create_matrix.remote([1000, 1000])\n",
    "y_id = create_matrix.remote([1000, 1000])\n",
    "z_id = multiply_matrices.remote(x_id, y_id)\n",
    "\n",
    "# Get the results.\n",
    "results = ray.get(z_id)\n",
    "\n",
    "print(results)\n",
    "\n",
    "print('')"
   ]
  },
  {
   "cell_type": "markdown",
   "metadata": {},
   "source": []
  }
 ],
 "metadata": {
  "kernelspec": {
   "display_name": "Python 3",
   "language": "python",
   "name": "python3"
  },
  "language_info": {
   "codemirror_mode": {
    "name": "ipython",
    "version": 3
   },
   "file_extension": ".py",
   "mimetype": "text/x-python",
   "name": "python",
   "nbconvert_exporter": "python",
   "pygments_lexer": "ipython3",
   "version": "3.7.7"
  }
 },
 "nbformat": 4,
 "nbformat_minor": 4
}
