{
 "cells": [
  {
   "cell_type": "markdown",
   "metadata": {},
   "source": [
    "# work on the tree"
   ]
  },
  {
   "cell_type": "code",
   "execution_count": 1,
   "metadata": {},
   "outputs": [],
   "source": [
    "%reload_ext autoreload\n",
    "%autoreload 2\n",
    "\n",
    "import sys\n",
    "from pathlib import Path\n",
    "\n",
    "my_happy_flow_path = str(Path('../../src').resolve())\n",
    "my_lib_path = str(Path('my_lib').resolve())\n",
    "\n",
    "if my_lib_path not in sys.path:\n",
    "    sys.path.append(my_lib_path)\n",
    "\n",
    "\n",
    "if my_happy_flow_path not in sys.path:\n",
    "    sys.path.append(my_happy_flow_path)\n",
    "    \n"
   ]
  },
  {
   "cell_type": "markdown",
   "metadata": {},
   "source": [
    "## ast.NodeVisitor"
   ]
  },
  {
   "cell_type": "markdown",
   "metadata": {},
   "source": [
    "ast.NodeVisitor is the primary tool for ‘scanning’ the tree. "
   ]
  },
  {
   "cell_type": "code",
   "execution_count": 2,
   "metadata": {},
   "outputs": [
    {
     "name": "stdout",
     "output_type": "stream",
     "text": [
      "class NodeVisitor(object):\n",
      "    \"\"\"\n",
      "    A node visitor base class that walks the abstract syntax tree and calls a\n",
      "    visitor function for every node found.  This function may return a value\n",
      "    which is forwarded by the `visit` method.\n",
      "\n",
      "    This class is meant to be subclassed, with the subclass adding visitor\n",
      "    methods.\n",
      "\n",
      "    Per default the visitor functions for the nodes are ``'visit_'`` +\n",
      "    class name of the node.  So a `TryFinally` node visit function would\n",
      "    be `visit_TryFinally`.  This behavior can be changed by overriding\n",
      "    the `visit` method.  If no visitor function exists for a node\n",
      "    (return value `None`) the `generic_visit` visitor is used instead.\n",
      "\n",
      "    Don't use the `NodeVisitor` if you want to apply changes to nodes during\n",
      "    traversing.  For this a special visitor exists (`NodeTransformer`) that\n",
      "    allows modifications.\n",
      "    \"\"\"\n",
      "\n",
      "    def visit(self, node):\n",
      "        \"\"\"Visit a node.\"\"\"\n",
      "        method = 'visit_' + node.__class__.__name__\n",
      "        visitor = getattr(self, method, self.generic_visit)\n",
      "        return visitor(node)\n",
      "\n",
      "    def generic_visit(self, node):\n",
      "        \"\"\"Called if no explicit visitor function exists for a node.\"\"\"\n",
      "        for field, value in iter_fields(node):\n",
      "            if isinstance(value, list):\n",
      "                for item in value:\n",
      "                    if isinstance(item, AST):\n",
      "                        self.visit(item)\n",
      "            elif isinstance(value, AST):\n",
      "                self.visit(value)\n",
      "\n"
     ]
    }
   ],
   "source": [
    "import ast\n",
    "import inspect\n",
    "\n",
    "print(inspect.getsource(ast.NodeVisitor))"
   ]
  },
  {
   "cell_type": "markdown",
   "metadata": {},
   "source": [
    "To use it, subclass it and override methods visit_Foo, corresponding to the node classes. (see [Meet the Nodes](https://greentreesnakes.readthedocs.io/en/latest/nodes.html)).\n",
    "\n",
    "For example, this visitor will print the names of any functions defined in the given code, including methods and functions defined within other functions:"
   ]
  },
  {
   "cell_type": "code",
   "execution_count": 3,
   "metadata": {},
   "outputs": [],
   "source": [
    "import ast\n",
    "class FuncLister(ast.NodeVisitor):\n",
    "    def visit_FunctionDef(self, node):\n",
    "        print('func_name: ', node.name)\n",
    "        self.generic_visit(node)"
   ]
  },
  {
   "cell_type": "code",
   "execution_count": 4,
   "metadata": {},
   "outputs": [
    {
     "name": "stdout",
     "output_type": "stream",
     "text": [
      "func_name:  a\n",
      "func_name:  b\n",
      "func_name:  c\n"
     ]
    }
   ],
   "source": [
    "source_code = \"\"\"\n",
    "def a():\n",
    "    print('i am a')\n",
    "    \n",
    "def b():\n",
    "    print('call a')\n",
    "    a()\n",
    "    def c():\n",
    "        print('i am c function')\n",
    "    \n",
    "b()\n",
    "\"\"\".strip()\n",
    "FuncLister().visit(ast.parse(source_code))"
   ]
  },
  {
   "cell_type": "markdown",
   "metadata": {},
   "source": [
    "If you want child nodes to be visited, remember to call self.generic_visit(node) in the methods you override."
   ]
  },
  {
   "cell_type": "markdown",
   "metadata": {},
   "source": [
    "Alternatively, you can run through a list of all the nodes in the tree using ast.walk(). There are no guarantees about the order in which nodes will appear. The following example again prints the names of any functions defined within the given code:"
   ]
  },
  {
   "cell_type": "code",
   "execution_count": 5,
   "metadata": {},
   "outputs": [
    {
     "name": "stdout",
     "output_type": "stream",
     "text": [
      "func_name:  a\n",
      "func_name:  b\n",
      "func_name:  c\n"
     ]
    }
   ],
   "source": [
    "import ast\n",
    "\n",
    "source_code = \"\"\"\n",
    "def a():\n",
    "    print('i am a')\n",
    "    \n",
    "def b():\n",
    "    print('call a')\n",
    "    a()\n",
    "    def c():\n",
    "        print('i am c function')\n",
    "    \n",
    "b()\n",
    "\"\"\".strip()\n",
    "\n",
    "tree = ast.parse(source_code)\n",
    "for node in ast.walk(tree):\n",
    "    if isinstance(node, ast.FunctionDef):\n",
    "        print('func_name: ', node.name)"
   ]
  },
  {
   "cell_type": "markdown",
   "metadata": {},
   "source": [
    "You can also get the direct children of a node, using ast.iter_child_nodes(). Remember that many nodes have children in several sections: for example, an If has a node in the test field, and list of nodes in body and orelse. ast.iter_child_nodes() will go through all of these.\n",
    "\n",
    "Finally, you can navigate directly, using the attributes of the nodes. For example, if you want to get the last node within a function’s body, use node.body\\[-1\\]. Of course, all the normal Python tools for iterating and indexing work. In particular, isinstance() is very useful for checking what nodes are.\n"
   ]
  },
  {
   "cell_type": "markdown",
   "metadata": {},
   "source": [
    "## Inspecting nodes"
   ]
  },
  {
   "cell_type": "markdown",
   "metadata": {},
   "source": [
    "The ast module has a couple of functions for inspecting nodes:\n",
    "\n",
    "$\\large{🍞}$ ast.iter_fields() iterates over the fields defined for a node.\n",
    "\n",
    "$\\large{🍞}$ ast.get_docstring() gets the docstring of a FunctionDef, ClassDef or Module node.\n",
    "\n",
    "$\\large{🍞}$  ast.dump() returns a string showing the node and any children. \n"
   ]
  },
  {
   "cell_type": "markdown",
   "metadata": {},
   "source": [
    "## Modifying the tree"
   ]
  },
  {
   "cell_type": "markdown",
   "metadata": {},
   "source": [
    "The key tool is ast.NodeTransformer. Like ast.NodeVisitor, you subclass this and override visit_Foo methods. The method should return the original node, a replacement node, or None to remove that node from the tree.\n",
    "\n",
    "The ast module docs have this example, which rewrites name lookups, so foo becomes data\\['foo'\\]:\n"
   ]
  },
  {
   "cell_type": "code",
   "execution_count": 6,
   "metadata": {},
   "outputs": [],
   "source": [
    "import ast\n",
    "\n",
    "class RewriteName(ast.NodeTransformer):\n",
    "    def visit_Name(slef, node):\n",
    "        return ast.copy_location(ast.Subscript(\n",
    "            value=ast.Name(id='data', ctx=ast.Load()),\n",
    "            slice=ast.Index(value=ast.Str(s=node.id)),\n",
    "            ctx=node.ctx\n",
    "        ), node)\n",
    "    "
   ]
  },
  {
   "cell_type": "code",
   "execution_count": 10,
   "metadata": {},
   "outputs": [
    {
     "name": "stdout",
     "output_type": "stream",
     "text": [
      "Module(body=[Expr(value=Name(\n",
      "  id='foo',\n",
      "  ctx=Load()))])\n",
      "\n",
      "================================================================================\n",
      "\n",
      "{\n",
      " \"_PyType\": \"Module\",\n",
      " \"body\": [\n",
      "  {\n",
      "   \"_PyType\": \"Expr\",\n",
      "   \"value\": {\n",
      "    \"_PyType\": \"Name\",\n",
      "    \"id\": \"foo\",\n",
      "    \"ctx\": {\n",
      "     \"_PyType\": \"Load\"\n",
      "    }\n",
      "   }\n",
      "  }\n",
      " ]\n",
      "}\n",
      "\n",
      "================================================================================\n",
      "\n",
      "\n",
      "data['foo']\n",
      "\n",
      "\n",
      "================================================================================\n",
      "\n",
      "{\n",
      " \"_PyType\": \"Module\",\n",
      " \"body\": [\n",
      "  {\n",
      "   \"_PyType\": \"Expr\",\n",
      "   \"value\": {\n",
      "    \"_PyType\": \"Subscript\",\n",
      "    \"value\": {\n",
      "     \"_PyType\": \"Name\",\n",
      "     \"id\": \"data\",\n",
      "     \"ctx\": {\n",
      "      \"_PyType\": \"Load\"\n",
      "     }\n",
      "    },\n",
      "    \"slice\": {\n",
      "     \"_PyType\": \"Index\",\n",
      "     \"value\": {\n",
      "      \"_PyType\": \"Str\",\n",
      "      \"s\": \"foo\"\n",
      "     }\n",
      "    },\n",
      "    \"ctx\": {\n",
      "     \"_PyType\": \"Load\"\n",
      "    }\n",
      "   }\n",
      "  }\n",
      " ]\n",
      "}\n"
     ]
    }
   ],
   "source": [
    "from __future__ import unicode_literals\n",
    "\n",
    "import ast\n",
    "import ast_utils\n",
    "from ast_utils import print_utils\n",
    "import ujson\n",
    "\n",
    "tree = ast.parse(\"foo\")\n",
    "print(ast_utils.dump(tree))\n",
    "\n",
    "print_utils.print_separator()\n",
    "\n",
    "print(ast_utils.dump_json(tree))\n",
    "\n",
    "new_tree = ast.fix_missing_locations(RewriteName().visit(tree))\n",
    "\n",
    "print_utils.print_separator()\n",
    "\n",
    "print(ast_utils.unparse(new_tree))\n",
    "\n",
    "print_utils.print_separator()\n",
    "\n",
    "print(ast_utils.dump_json(new_tree))"
   ]
  },
  {
   "cell_type": "markdown",
   "metadata": {},
   "source": [
    "Be careful when removing nodes. You can quite easily remove a node from a required field, such as the test field of an If node. Python won’t complain about the invalid AST until you try to compile() it, when a TypeError is raised.\n",
    "\n"
   ]
  },
  {
   "cell_type": "markdown",
   "metadata": {},
   "source": []
  },
  {
   "cell_type": "code",
   "execution_count": null,
   "metadata": {},
   "outputs": [],
   "source": []
  }
 ],
 "metadata": {
  "kernelspec": {
   "display_name": "Python 3",
   "language": "python",
   "name": "python3"
  },
  "language_info": {
   "codemirror_mode": {
    "name": "ipython",
    "version": 3
   },
   "file_extension": ".py",
   "mimetype": "text/x-python",
   "name": "python",
   "nbconvert_exporter": "python",
   "pygments_lexer": "ipython3",
   "version": "3.7.7"
  }
 },
 "nbformat": 4,
 "nbformat_minor": 4
}
